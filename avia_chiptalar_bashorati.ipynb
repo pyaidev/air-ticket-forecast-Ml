{
  "metadata": {
    "kernelspec": {
      "language": "python",
      "display_name": "Python 3",
      "name": "python3"
    },
    "language_info": {
      "name": "python",
      "version": "3.10.12",
      "mimetype": "text/x-python",
      "codemirror_mode": {
        "name": "ipython",
        "version": 3
      },
      "pygments_lexer": "ipython3",
      "nbconvert_exporter": "python",
      "file_extension": ".py"
    },
    "kaggle": {
      "accelerator": "gpu",
      "dataSources": [
        {
          "sourceId": 36503,
          "databundleVersionId": 3619833,
          "sourceType": "competition"
        }
      ],
      "dockerImageVersionId": 30527,
      "isInternetEnabled": true,
      "language": "python",
      "sourceType": "notebook",
      "isGpuEnabled": true
    },
    "colab": {
      "name": "avia_chiptalar_bashorati",
      "provenance": [],
      "include_colab_link": true
    }
  },
  "nbformat_minor": 0,
  "nbformat": 4,
  "cells": [
    {
      "cell_type": "markdown",
      "metadata": {
        "id": "view-in-github",
        "colab_type": "text"
      },
      "source": [
        "<a href=\"https://colab.research.google.com/github/pyaidev/air-ticket-forecast-Ml/blob/main/avia_chiptalar_bashorati.ipynb\" target=\"_parent\"><img src=\"https://colab.research.google.com/assets/colab-badge.svg\" alt=\"Open In Colab\"/></a>"
      ]
    },
    {
      "source": [
        "\n",
        "# IMPORTANT: RUN THIS CELL IN ORDER TO IMPORT YOUR KAGGLE DATA SOURCES\n",
        "# TO THE CORRECT LOCATION (/kaggle/input) IN YOUR NOTEBOOK,\n",
        "# THEN FEEL FREE TO DELETE THIS CELL.\n",
        "# NOTE: THIS NOTEBOOK ENVIRONMENT DIFFERS FROM KAGGLE'S PYTHON\n",
        "# ENVIRONMENT SO THERE MAY BE MISSING LIBRARIES USED BY YOUR\n",
        "# NOTEBOOK.\n",
        "\n",
        "import os\n",
        "import sys\n",
        "from tempfile import NamedTemporaryFile\n",
        "from urllib.request import urlopen\n",
        "from urllib.parse import unquote, urlparse\n",
        "from urllib.error import HTTPError\n",
        "from zipfile import ZipFile\n",
        "import tarfile\n",
        "import shutil\n",
        "\n",
        "CHUNK_SIZE = 40960\n",
        "DATA_SOURCE_MAPPING = 'aviachipta-narxini-bashorat-qilish:https%3A%2F%2Fstorage.googleapis.com%2Fkaggle-competitions-data%2Fkaggle-v2%2F36503%2F3619833%2Fbundle%2Farchive.zip%3FX-Goog-Algorithm%3DGOOG4-RSA-SHA256%26X-Goog-Credential%3Dgcp-kaggle-com%2540kaggle-161607.iam.gserviceaccount.com%252F20240410%252Fauto%252Fstorage%252Fgoog4_request%26X-Goog-Date%3D20240410T082627Z%26X-Goog-Expires%3D259200%26X-Goog-SignedHeaders%3Dhost%26X-Goog-Signature%3D24d6b8f0b605abe765204fe4d272d888e7f2cd809f23452fd6f88fcf2e7d1323f12bd44f9ca39dd17f5bed1c57eb96f565e71267453067452439fc7ee63435e3ab955424c3da9665403b0850e046953fb09e31a42974b31c2cc3076ecab0c4c2e3142aad4165762d6ff1fccfb7b7a933eefb0738bd0d75346589de0ad2ca80f56c63174799f86ed358399b345a41199b105b07bdf4bcc2363058dc390775a580c99983ebffde5a39005813d066a86ce843a972a670e3165e37d824ad279e2ec8a00f5232be4d1e005cc741caf0206352d89160296a29c2dad4b85f993dd9b843eb0ebce5451859b9589ec471678e00f943c707eac9d4edf0f32b672f4e82fc7f'\n",
        "\n",
        "KAGGLE_INPUT_PATH='/kaggle/input'\n",
        "KAGGLE_WORKING_PATH='/kaggle/working'\n",
        "KAGGLE_SYMLINK='kaggle'\n",
        "\n",
        "!umount /kaggle/input/ 2> /dev/null\n",
        "shutil.rmtree('/kaggle/input', ignore_errors=True)\n",
        "os.makedirs(KAGGLE_INPUT_PATH, 0o777, exist_ok=True)\n",
        "os.makedirs(KAGGLE_WORKING_PATH, 0o777, exist_ok=True)\n",
        "\n",
        "try:\n",
        "  os.symlink(KAGGLE_INPUT_PATH, os.path.join(\"..\", 'input'), target_is_directory=True)\n",
        "except FileExistsError:\n",
        "  pass\n",
        "try:\n",
        "  os.symlink(KAGGLE_WORKING_PATH, os.path.join(\"..\", 'working'), target_is_directory=True)\n",
        "except FileExistsError:\n",
        "  pass\n",
        "\n",
        "for data_source_mapping in DATA_SOURCE_MAPPING.split(','):\n",
        "    directory, download_url_encoded = data_source_mapping.split(':')\n",
        "    download_url = unquote(download_url_encoded)\n",
        "    filename = urlparse(download_url).path\n",
        "    destination_path = os.path.join(KAGGLE_INPUT_PATH, directory)\n",
        "    try:\n",
        "        with urlopen(download_url) as fileres, NamedTemporaryFile() as tfile:\n",
        "            total_length = fileres.headers['content-length']\n",
        "            print(f'Downloading {directory}, {total_length} bytes compressed')\n",
        "            dl = 0\n",
        "            data = fileres.read(CHUNK_SIZE)\n",
        "            while len(data) > 0:\n",
        "                dl += len(data)\n",
        "                tfile.write(data)\n",
        "                done = int(50 * dl / int(total_length))\n",
        "                sys.stdout.write(f\"\\r[{'=' * done}{' ' * (50-done)}] {dl} bytes downloaded\")\n",
        "                sys.stdout.flush()\n",
        "                data = fileres.read(CHUNK_SIZE)\n",
        "            if filename.endswith('.zip'):\n",
        "              with ZipFile(tfile) as zfile:\n",
        "                zfile.extractall(destination_path)\n",
        "            else:\n",
        "              with tarfile.open(tfile.name) as tarfile:\n",
        "                tarfile.extractall(destination_path)\n",
        "            print(f'\\nDownloaded and uncompressed: {directory}')\n",
        "    except HTTPError as e:\n",
        "        print(f'Failed to load (likely expired) {download_url} to path {destination_path}')\n",
        "        continue\n",
        "    except OSError as e:\n",
        "        print(f'Failed to load {download_url} to path {destination_path}')\n",
        "        continue\n",
        "\n",
        "print('Data source import complete.')\n"
      ],
      "metadata": {
        "id": "CDr_Q4tuHv5N"
      },
      "cell_type": "code",
      "outputs": [],
      "execution_count": null
    },
    {
      "cell_type": "code",
      "source": [
        "# This Python 3 environment comes with many helpful analytics libraries installed\n",
        "# It is defined by the kaggle/python Docker image: https://github.com/kaggle/docker-python\n",
        "# For example, here's several helpful packages to load\n",
        "\n",
        "import numpy as np # linear algebra\n",
        "import pandas as pd # data processing, CSV file I/O (e.g. pd.read_csv)\n",
        "\n",
        "# Input data files are available in the read-only \"../input/\" directory\n",
        "# For example, running this (by clicking run or pressing Shift+Enter) will list all files under the input directory\n",
        "\n",
        "import os\n",
        "for dirname, _, filenames in os.walk('/kaggle/input'):\n",
        "    for filename in filenames:\n",
        "        print(os.path.join(dirname, filename))\n",
        "\n",
        "# You can write up to 20GB to the current directory (/kaggle/working/) that gets preserved as output when you create a version using \"Save & Run All\"\n",
        "# You can also write temporary files to /kaggle/temp/, but they won't be saved outside of the current session"
      ],
      "metadata": {
        "trusted": true,
        "id": "g8Wo0xOBHv5O"
      },
      "execution_count": null,
      "outputs": []
    },
    {
      "cell_type": "markdown",
      "source": [
        "### Импорт Библиотек"
      ],
      "metadata": {
        "id": "aCXPRMhbHv5O"
      }
    },
    {
      "cell_type": "code",
      "source": [
        "import pandas as pd\n",
        "import numpy as np\n",
        "import matplotlib.pyplot as plt\n",
        "import seaborn as sns\n",
        "\n",
        "from sklearn.base import BaseEstimator, TransformerMixin\n",
        "from sklearn.preprocessing import  OrdinalEncoder\n",
        "from sklearn.pipeline import Pipeline\n",
        "from sklearn.preprocessing import OneHotEncoder, StandardScaler\n",
        "from sklearn.compose import ColumnTransformer\n",
        "\n",
        "from sklearn.ensemble import RandomForestRegressor\n",
        "import xgboost as xgb\n",
        "from catboost import CatBoostRegressor\n",
        "\n",
        "%matplotlib inline"
      ],
      "metadata": {
        "id": "qX5riro6Hv5P"
      },
      "execution_count": null,
      "outputs": []
    },
    {
      "cell_type": "markdown",
      "source": [
        "### Чтение CSV-файлов¶"
      ],
      "metadata": {
        "id": "TMpSooygHv5P"
      }
    },
    {
      "cell_type": "code",
      "source": [
        "df = pd.read_csv(\"/kaggle/input/aviachipta-narxini-bashorat-qilish/train_data.csv\", index_col=0)\n",
        "df_test = pd.read_csv(\"/kaggle/input/aviachipta-narxini-bashorat-qilish/test_data.csv\", index_col=0)\n",
        "df_submission = pd.read_csv(\"/kaggle/input/aviachipta-narxini-bashorat-qilish/sample_solution.csv\", index_col=0)\n",
        "df.head(10)"
      ],
      "metadata": {
        "trusted": true,
        "id": "tCM8s2LzHv5P"
      },
      "execution_count": null,
      "outputs": []
    },
    {
      "cell_type": "markdown",
      "source": [
        "### Формирование обучающих и тестовых наборов"
      ],
      "metadata": {
        "id": "iee8SuhxHv5P"
      }
    },
    {
      "cell_type": "code",
      "source": [
        "X_train = df.drop('price', axis=1)\n",
        "y = df['price']\n",
        "X_test = df_test"
      ],
      "metadata": {
        "execution": {
          "iopub.status.busy": "2024-04-10T08:04:31.370993Z",
          "iopub.execute_input": "2024-04-10T08:04:31.371895Z",
          "iopub.status.idle": "2024-04-10T08:04:31.38021Z",
          "shell.execute_reply.started": "2024-04-10T08:04:31.371853Z",
          "shell.execute_reply": "2024-04-10T08:04:31.378876Z"
        },
        "trusted": true,
        "id": "4cAfTbO6Hv5P"
      },
      "execution_count": null,
      "outputs": []
    },
    {
      "cell_type": "markdown",
      "source": [
        "### Pipeline\n",
        "\n"
      ],
      "metadata": {
        "id": "4rqzSq4zHv5P"
      }
    },
    {
      "cell_type": "code",
      "source": [
        "X_num = X_train[['duration', 'days_left']]\n",
        "X_cat = X_train.drop(columns=['flight', 'stops', 'class', 'duration', 'days_left'])"
      ],
      "metadata": {
        "execution": {
          "iopub.status.busy": "2024-04-10T08:04:39.337324Z",
          "iopub.execute_input": "2024-04-10T08:04:39.338235Z",
          "iopub.status.idle": "2024-04-10T08:04:39.345393Z",
          "shell.execute_reply.started": "2024-04-10T08:04:39.338188Z",
          "shell.execute_reply": "2024-04-10T08:04:39.344444Z"
        },
        "trusted": true,
        "id": "9xAQl_uoHv5P"
      },
      "execution_count": null,
      "outputs": []
    },
    {
      "cell_type": "code",
      "source": [
        "class StopsEncoder(BaseEstimator, TransformerMixin):\n",
        "    def __init__(self):\n",
        "        pass\n",
        "\n",
        "    def fit(self, X, y=None):\n",
        "        # This method is typically used for any necessary setup, but we don't need it here.\n",
        "        return self\n",
        "\n",
        "    def transform(self, X, y=None):\n",
        "        # Map categories to numerical values\n",
        "        X['stops'] = X['stops'].map({'zero': 0, 'one': 1, 'two_or_more': 2})\n",
        "        return X"
      ],
      "metadata": {
        "execution": {
          "iopub.status.busy": "2024-04-10T08:04:49.795772Z",
          "iopub.execute_input": "2024-04-10T08:04:49.796424Z",
          "iopub.status.idle": "2024-04-10T08:04:49.802326Z",
          "shell.execute_reply.started": "2024-04-10T08:04:49.79639Z",
          "shell.execute_reply": "2024-04-10T08:04:49.801234Z"
        },
        "trusted": true,
        "id": "IPdobE6cHv5P"
      },
      "execution_count": null,
      "outputs": []
    },
    {
      "cell_type": "code",
      "source": [
        "class ClassEncoder(BaseEstimator, TransformerMixin):\n",
        "    def __init__(self):\n",
        "        pass\n",
        "\n",
        "    def fit(self, X, y=None):\n",
        "        # This method is typically used for any necessary setup, but we don't need it here.\n",
        "        return self\n",
        "\n",
        "    def transform(self, X, y=None):\n",
        "        # Map categories to numerical values\n",
        "        X['class'] = X['class'].map({'Economy': 0, 'Business': 1})\n",
        "        return X"
      ],
      "metadata": {
        "execution": {
          "iopub.status.busy": "2024-04-10T08:04:59.57584Z",
          "iopub.execute_input": "2024-04-10T08:04:59.57664Z",
          "iopub.status.idle": "2024-04-10T08:04:59.582068Z",
          "shell.execute_reply.started": "2024-04-10T08:04:59.576608Z",
          "shell.execute_reply": "2024-04-10T08:04:59.581159Z"
        },
        "trusted": true,
        "id": "U1mPzz9VHv5Q"
      },
      "execution_count": null,
      "outputs": []
    },
    {
      "cell_type": "code",
      "source": [
        "class FlightEncoder(BaseEstimator, TransformerMixin):\n",
        "    def __init__(self):\n",
        "        pass\n",
        "\n",
        "    def fit(self, X, y=None):\n",
        "        # This method is typically used for any necessary setup, but we don't need it here.\n",
        "        return self\n",
        "\n",
        "    def transform(self, X, y=None):\n",
        "        # Map categories to numerical values\n",
        "        X[['flight_country', 'flight_number']]=X[\"flight\"].str.split(\"-\", expand=True)\n",
        "        X['flight_number']=X['flight_number'].astype('int64')\n",
        "\n",
        "        encoder = OrdinalEncoder()\n",
        "        col_ordinal_encoder = X[['flight_country']]\n",
        "        X[['flight_country']] = encoder.fit_transform(col_ordinal_encoder)\n",
        "\n",
        "        X.drop(['flight'], axis=1, inplace=True)\n",
        "        return X"
      ],
      "metadata": {
        "execution": {
          "iopub.status.busy": "2024-04-10T08:05:08.709013Z",
          "iopub.execute_input": "2024-04-10T08:05:08.709949Z",
          "iopub.status.idle": "2024-04-10T08:05:08.71681Z",
          "shell.execute_reply.started": "2024-04-10T08:05:08.709912Z",
          "shell.execute_reply": "2024-04-10T08:05:08.715744Z"
        },
        "trusted": true,
        "id": "5yOJk3YuHv5Q"
      },
      "execution_count": null,
      "outputs": []
    },
    {
      "cell_type": "code",
      "source": [
        "class OheEncoder(BaseEstimator, TransformerMixin):\n",
        "    def __init__(self):\n",
        "        pass\n",
        "\n",
        "    def fit(self, X, y=None):\n",
        "        # This method is typically used for any necessary setup, but we don't need it here.\n",
        "        return self\n",
        "\n",
        "    def transform(self, X, y=None):\n",
        "        # Map categories to numerical values\n",
        "\n",
        "        one_hot_encoder = ['airline', 'source_city', 'departure_time', 'arrival_time','destination_city']\n",
        "        X = pd.get_dummies(X, columns=one_hot_encoder)\n",
        "\n",
        "        # X['duration'] = X['duration']\n",
        "        # X['days_left'] = X['days_left']\n",
        "        return X"
      ],
      "metadata": {
        "execution": {
          "iopub.status.busy": "2024-04-10T08:05:17.595693Z",
          "iopub.execute_input": "2024-04-10T08:05:17.596071Z",
          "iopub.status.idle": "2024-04-10T08:05:17.602083Z",
          "shell.execute_reply.started": "2024-04-10T08:05:17.596039Z",
          "shell.execute_reply": "2024-04-10T08:05:17.60113Z"
        },
        "trusted": true,
        "id": "qd2qvHFCHv5Q"
      },
      "execution_count": null,
      "outputs": []
    },
    {
      "cell_type": "code",
      "source": [
        "# num_pipeline = Pipeline([\n",
        "#     ('std_scaler', StandardScaler())\n",
        "# ])\n",
        "\n",
        "cat_pipeline = Pipeline([\n",
        "    ('ohe', OheEncoder())\n",
        "])\n",
        "\n",
        "stops_pipeline = Pipeline([\n",
        "    ('stops_encoder', StopsEncoder())\n",
        "])\n",
        "\n",
        "class_pipeline = Pipeline([\n",
        "    ('class_encoder', ClassEncoder())\n",
        "])\n",
        "\n",
        "flight_pipeline = Pipeline([\n",
        "    ('flight_encoder', FlightEncoder())\n",
        "])"
      ],
      "metadata": {
        "execution": {
          "iopub.status.busy": "2024-04-10T08:05:28.548782Z",
          "iopub.execute_input": "2024-04-10T08:05:28.549533Z",
          "iopub.status.idle": "2024-04-10T08:05:28.555214Z",
          "shell.execute_reply.started": "2024-04-10T08:05:28.549492Z",
          "shell.execute_reply": "2024-04-10T08:05:28.55405Z"
        },
        "trusted": true,
        "id": "WaFqBtEmHv5Q"
      },
      "execution_count": null,
      "outputs": []
    },
    {
      "cell_type": "code",
      "source": [
        "# Full pipeline\n",
        "\n",
        "# num_attribs = list(X_num)\n",
        "cat_attribs = list(X_cat)\n",
        "stops_attribs = ['stops']\n",
        "class_attribs = ['class']\n",
        "flight_attribs = ['flight']\n",
        "\n",
        "full_pipeline = ColumnTransformer(transformers=[\n",
        "    # ('num', num_pipeline, num_attribs),\n",
        "    ('cat', cat_pipeline, cat_attribs),\n",
        "    ('stops', stops_pipeline, stops_attribs),\n",
        "    ('class', class_pipeline, class_attribs),\n",
        "    ('flight', flight_pipeline, flight_attribs)], remainder='passthrough'\n",
        ")"
      ],
      "metadata": {
        "execution": {
          "iopub.status.busy": "2024-04-10T08:05:37.859981Z",
          "iopub.execute_input": "2024-04-10T08:05:37.860369Z",
          "iopub.status.idle": "2024-04-10T08:05:37.866208Z",
          "shell.execute_reply.started": "2024-04-10T08:05:37.860339Z",
          "shell.execute_reply": "2024-04-10T08:05:37.865153Z"
        },
        "trusted": true,
        "id": "vh71HG7FHv5Q"
      },
      "execution_count": null,
      "outputs": []
    },
    {
      "cell_type": "code",
      "source": [
        "X_train_prepared = full_pipeline.fit_transform(X_train)\n",
        "X_test_prepared = full_pipeline.transform(X_test)"
      ],
      "metadata": {
        "execution": {
          "iopub.status.busy": "2024-04-10T08:05:47.187202Z",
          "iopub.execute_input": "2024-04-10T08:05:47.188172Z",
          "iopub.status.idle": "2024-04-10T08:05:47.449074Z",
          "shell.execute_reply.started": "2024-04-10T08:05:47.188138Z",
          "shell.execute_reply": "2024-04-10T08:05:47.448312Z"
        },
        "trusted": true,
        "id": "xmR9tcvfHv5Q"
      },
      "execution_count": null,
      "outputs": []
    },
    {
      "cell_type": "markdown",
      "source": [
        "### Machine Learning\n",
        "* #  Random Forest"
      ],
      "metadata": {
        "id": "aS6FuoKoHv5Q"
      }
    },
    {
      "cell_type": "code",
      "source": [
        "RF_model = RandomForestRegressor()\n",
        "RF_model.fit(X_train_prepared, y)\n",
        "y_RF_predicted = RF_model.predict(X_test_prepared)"
      ],
      "metadata": {
        "execution": {
          "iopub.status.busy": "2024-04-10T08:06:01.199051Z",
          "iopub.execute_input": "2024-04-10T08:06:01.199406Z",
          "iopub.status.idle": "2024-04-10T08:06:09.881524Z",
          "shell.execute_reply.started": "2024-04-10T08:06:01.199377Z",
          "shell.execute_reply": "2024-04-10T08:06:09.880703Z"
        },
        "trusted": true,
        "id": "hWq2nLHXHv5Q"
      },
      "execution_count": null,
      "outputs": []
    },
    {
      "cell_type": "code",
      "source": [
        "submission_rf = df_submission.copy()\n",
        "submission_rf"
      ],
      "metadata": {
        "execution": {
          "iopub.status.busy": "2024-04-10T08:06:20.358657Z",
          "iopub.execute_input": "2024-04-10T08:06:20.359347Z",
          "iopub.status.idle": "2024-04-10T08:06:20.369093Z",
          "shell.execute_reply.started": "2024-04-10T08:06:20.359318Z",
          "shell.execute_reply": "2024-04-10T08:06:20.368126Z"
        },
        "trusted": true,
        "id": "vBIot0jCHv5Q"
      },
      "execution_count": null,
      "outputs": []
    },
    {
      "cell_type": "code",
      "source": [
        "submission_rf['price'] = y_RF_predicted\n",
        "submission_rf"
      ],
      "metadata": {
        "execution": {
          "iopub.status.busy": "2024-04-10T08:06:52.172921Z",
          "iopub.execute_input": "2024-04-10T08:06:52.173841Z",
          "iopub.status.idle": "2024-04-10T08:06:52.18563Z",
          "shell.execute_reply.started": "2024-04-10T08:06:52.173806Z",
          "shell.execute_reply": "2024-04-10T08:06:52.184537Z"
        },
        "trusted": true,
        "id": "eSC-fr2BHv5Q"
      },
      "execution_count": null,
      "outputs": []
    },
    {
      "cell_type": "code",
      "source": [
        "submission_rf.to_csv(\"submission_rf.csv\")"
      ],
      "metadata": {
        "execution": {
          "iopub.status.busy": "2024-04-10T08:07:00.539781Z",
          "iopub.execute_input": "2024-04-10T08:07:00.540181Z",
          "iopub.status.idle": "2024-04-10T08:07:00.561637Z",
          "shell.execute_reply.started": "2024-04-10T08:07:00.540144Z",
          "shell.execute_reply": "2024-04-10T08:07:00.560809Z"
        },
        "trusted": true,
        "id": "ldKMtPIkHv5Q"
      },
      "execution_count": null,
      "outputs": []
    },
    {
      "cell_type": "markdown",
      "source": [
        "### XGBoost"
      ],
      "metadata": {
        "id": "jC9qRlAvHv5Q"
      }
    },
    {
      "cell_type": "code",
      "source": [
        "xgb_model = xgb.XGBRegressor(objective='reg:squarederror', n_estimators=100, learning_rate=0.1, max_depth=13)\n",
        "xgb_model.fit(X_train_prepared, y)\n",
        "y_XGB_predicted = xgb_model.predict(X_test_prepared)"
      ],
      "metadata": {
        "execution": {
          "iopub.status.busy": "2024-04-10T08:07:11.439422Z",
          "iopub.execute_input": "2024-04-10T08:07:11.440214Z",
          "iopub.status.idle": "2024-04-10T08:07:17.249384Z",
          "shell.execute_reply.started": "2024-04-10T08:07:11.440173Z",
          "shell.execute_reply": "2024-04-10T08:07:17.248536Z"
        },
        "trusted": true,
        "id": "j85Z9cB-Hv5Q"
      },
      "execution_count": null,
      "outputs": []
    },
    {
      "cell_type": "code",
      "source": [
        "submission_xgb = df_submission.copy()\n",
        "submission_xgb"
      ],
      "metadata": {
        "execution": {
          "iopub.status.busy": "2024-04-10T08:07:22.638436Z",
          "iopub.execute_input": "2024-04-10T08:07:22.639486Z",
          "iopub.status.idle": "2024-04-10T08:07:22.653213Z",
          "shell.execute_reply.started": "2024-04-10T08:07:22.639439Z",
          "shell.execute_reply": "2024-04-10T08:07:22.651899Z"
        },
        "trusted": true,
        "id": "k5wadBApHv5Q"
      },
      "execution_count": null,
      "outputs": []
    },
    {
      "cell_type": "code",
      "source": [
        "submission_xgb['price'] = y_XGB_predicted\n",
        "submission_xgb"
      ],
      "metadata": {
        "execution": {
          "iopub.status.busy": "2024-04-10T08:07:31.297449Z",
          "iopub.execute_input": "2024-04-10T08:07:31.298258Z",
          "iopub.status.idle": "2024-04-10T08:07:31.311286Z",
          "shell.execute_reply.started": "2024-04-10T08:07:31.298217Z",
          "shell.execute_reply": "2024-04-10T08:07:31.310072Z"
        },
        "trusted": true,
        "id": "KsTuk_JnHv5Q"
      },
      "execution_count": null,
      "outputs": []
    },
    {
      "cell_type": "code",
      "source": [
        "submission_xgb.to_csv(\"submission_xgb.csv\")"
      ],
      "metadata": {
        "id": "PO5IO8tyHv5Q"
      },
      "execution_count": null,
      "outputs": []
    },
    {
      "cell_type": "markdown",
      "source": [
        "### CatBoost"
      ],
      "metadata": {
        "id": "5Zt9Jcv5Hv5Q"
      }
    },
    {
      "cell_type": "code",
      "source": [
        "cb_model = CatBoostRegressor(iterations=1000,  # Number of boosting iterations\n",
        "                                   learning_rate=0.1,  # Learning rate\n",
        "                                   depth=8,  # Depth of the decision tree\n",
        "                                   loss_function='RMSE',  # Loss function for regression\n",
        "                                   random_seed=42,  # Random seed for reproducibility\n",
        "                                   verbose=200)  # Print progress every 200 iterations\n",
        "cb_model.fit(X_train_prepared, y)\n",
        "y_CB_predicted = cb_model.predict(X_test_prepared)"
      ],
      "metadata": {
        "execution": {
          "iopub.status.busy": "2024-04-10T08:07:59.095946Z",
          "iopub.execute_input": "2024-04-10T08:07:59.096333Z",
          "iopub.status.idle": "2024-04-10T08:08:04.24899Z",
          "shell.execute_reply.started": "2024-04-10T08:07:59.096302Z",
          "shell.execute_reply": "2024-04-10T08:08:04.248026Z"
        },
        "trusted": true,
        "id": "ReDlvJAOHv5R"
      },
      "execution_count": null,
      "outputs": []
    },
    {
      "cell_type": "code",
      "source": [
        "submission_cb = df_submission.copy()\n",
        "submission_cb"
      ],
      "metadata": {
        "execution": {
          "iopub.status.busy": "2024-04-10T08:08:10.808264Z",
          "iopub.execute_input": "2024-04-10T08:08:10.809223Z",
          "iopub.status.idle": "2024-04-10T08:08:10.82162Z",
          "shell.execute_reply.started": "2024-04-10T08:08:10.809174Z",
          "shell.execute_reply": "2024-04-10T08:08:10.820567Z"
        },
        "trusted": true,
        "id": "I8Pk077QHv5R"
      },
      "execution_count": null,
      "outputs": []
    },
    {
      "cell_type": "code",
      "source": [
        "submission_cb['price'] = y_CB_predicted\n",
        "submission_cb"
      ],
      "metadata": {
        "execution": {
          "iopub.status.busy": "2024-04-10T08:08:22.151205Z",
          "iopub.execute_input": "2024-04-10T08:08:22.151556Z",
          "iopub.status.idle": "2024-04-10T08:08:22.162776Z",
          "shell.execute_reply.started": "2024-04-10T08:08:22.151529Z",
          "shell.execute_reply": "2024-04-10T08:08:22.161744Z"
        },
        "trusted": true,
        "id": "3ogV4rhBHv5R"
      },
      "execution_count": null,
      "outputs": []
    },
    {
      "cell_type": "code",
      "source": [
        "submission_cb.to_csv(\"submission_cb.csv\")"
      ],
      "metadata": {
        "execution": {
          "iopub.status.busy": "2024-04-10T08:08:36.556382Z",
          "iopub.execute_input": "2024-04-10T08:08:36.557349Z",
          "iopub.status.idle": "2024-04-10T08:08:36.582293Z",
          "shell.execute_reply.started": "2024-04-10T08:08:36.557313Z",
          "shell.execute_reply": "2024-04-10T08:08:36.581305Z"
        },
        "trusted": true,
        "id": "SDYvpHbxHv5R"
      },
      "execution_count": null,
      "outputs": []
    }
  ]
}